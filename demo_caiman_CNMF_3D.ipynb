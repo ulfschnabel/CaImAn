{
 "cells": [
  {
   "cell_type": "code",
   "execution_count": null,
   "metadata": {
    "collapsed": false
   },
   "outputs": [],
   "source": [
    "# SKIP THIS IF YOU WANT TO USE THE NON WEB INTERFACE (can only be done when notebook run locally)\n",
    "%matplotlib inline"
   ]
  },
  {
   "cell_type": "code",
   "execution_count": null,
   "metadata": {
    "collapsed": false
   },
   "outputs": [],
   "source": [
    "#%%\n",
    "try:\n",
    "    get_ipython().magic(u'load_ext autoreload')\n",
    "    get_ipython().magic(u'autoreload 2')\n",
    "    print(1)\n",
    "except:\n",
    "    print('NOT IPYTHON')\n",
    "\n",
    "import sys\n",
    "import numpy as np\n",
    "import tifffile\n",
    "import psutil\n",
    "from scipy.ndimage.filters import gaussian_filter\n",
    "from ipyparallel import Client\n",
    "\n",
    "import caiman as cm\n",
    "from caiman.utils.visualization import nb_view_patches3d\n",
    "import caiman.source_extraction.cnmf as cnmf\n",
    "from caiman.source_extraction.cnmf.utilities import order_components\n",
    "\n",
    "import matplotlib.pyplot as plt\n",
    "import bokeh.plotting as bpl\n",
    "bpl.output_notebook()"
   ]
  },
  {
   "cell_type": "code",
   "execution_count": null,
   "metadata": {
    "collapsed": false
   },
   "outputs": [],
   "source": [
    "#%%\n",
    "n_processes = psutil.cpu_count()\n",
    "print('using ' + str(n_processes) + ' processes')\n",
    "print(\"Stopping  cluster to avoid unnencessary use of memory....\")\n",
    "sys.stdout.flush()  \n",
    "cm.stop_server()"
   ]
  },
  {
   "cell_type": "code",
   "execution_count": null,
   "metadata": {
    "collapsed": true
   },
   "outputs": [],
   "source": [
    "def gen_data(p = 1, noise=1., T=256, framerate=30, firerate=2., plot=False):\n",
    "    if p==2:\n",
    "        gamma = np.array([1.5,-.55])\n",
    "    elif p==1:\n",
    "        gamma = np.array([.9])\n",
    "    else: raise\n",
    "    dims = (30, 40, 50)  # size of image\n",
    "    sig = (2, 2, 2)  # neurons size\n",
    "    bkgrd = 10\n",
    "    N = 20  # number of neurons\n",
    "    np.random.seed(7)\n",
    "    centers = np.asarray([[np.random.randint(5,x-5) \n",
    "                           for x in dims] for i in range(N)])\n",
    "    Yr = np.zeros(dims + (T,), dtype=np.float32)\n",
    "    trueSpikes = np.random.rand(N,T) < firerate / float(framerate)\n",
    "    trueSpikes[:,0] = 0\n",
    "    truth = trueSpikes.astype(np.float32)\n",
    "    for i in range(2,T):\n",
    "        if p ==2:\n",
    "            truth[:,i] += gamma[0]*truth[:,i-1] + gamma[1]*truth[:,i-2] \n",
    "        else:\n",
    "            truth[:,i] += gamma[0]*truth[:,i-1]\n",
    "    for i in range(N):\n",
    "        Yr[centers[i,0],centers[i,1],centers[i,2]] = truth[i]\n",
    "    tmp=np.zeros(dims)\n",
    "    tmp[15,20,25]=1.\n",
    "    z=np.linalg.norm(gaussian_filter(tmp, sig).ravel())\n",
    "    Yr = bkgrd + noise * np.random.randn(*(dims + (T,))) + 10 *gaussian_filter(Yr, sig + (0,)) /z\n",
    "    d1,d2,d3,T=Yr.shape\n",
    "    Yr=np.reshape(Yr,(d1*d2*d3,T),order='F').astype(np.float32)\n",
    " \n",
    "    if plot:\n",
    "        Y=np.reshape(Yr,(d1,d2,d3,T),order='F')\n",
    "        plt.figure(figsize=(15,3))\n",
    "        plt.plot(truth.T);\n",
    "        plt.figure(figsize=(15,3))\n",
    "        for c in centers:\n",
    "            plt.plot(Y[c[0],c[1],c[2]]);\n",
    "\n",
    "        plt.figure(figsize=(15,4))\n",
    "        plt.subplot(131)\n",
    "        plt.scatter(*centers.T[::-1],c='g')\n",
    "        plt.imshow(Y.max(0).max(-1),cmap='hot');plt.title('Max.proj. x & t')\n",
    "        plt.subplot(132)\n",
    "        plt.scatter(*centers.T[[2,0,1]],c='g')\n",
    "        plt.imshow(Y.max(1).max(-1),cmap='hot');plt.title('Max.proj. y & t')\n",
    "        plt.subplot(133)\n",
    "        plt.scatter(*centers.T[[1,0,2]],c='g')\n",
    "        plt.imshow(Y.max(2).max(-1),cmap='hot');plt.title('Max.proj. z & t')\n",
    "        plt.show()\n",
    "        \n",
    "    return Yr, truth, trueSpikes, centers, dims"
   ]
  },
  {
   "cell_type": "code",
   "execution_count": null,
   "metadata": {
    "collapsed": false
   },
   "outputs": [],
   "source": [
    "plt.close('all')\n",
    "from skimage.external.tifffile import imsave\n",
    "#%% SAVING TIFF FILE ON A SINGLE MEMORY MAPPABLE FILE\n",
    "try:\n",
    "    fname_new=cm.save_memmap(['example_movies/demoMovie3D.tif'],base_name='Yr',is_3D=True)\n",
    "except: #%% create 3d tiff file if not yet existent\n",
    "    Yr, truth, trueSpikes, centers, dims = gen_data(p=2)\n",
    "    # imagej takes data shapes up to 6 dimensions in TZCYXS order\n",
    "    data = np.transpose(Yr.reshape(dims+(-1,), order='F'), [3, 0, 1, 2])\n",
    "    imsave(data,'example_movies/demoMovie3D.tif')    \n",
    "    fname_new=cm.save_memmap(['example_movies/demoMovie3D.tif'],base_name='Yr',is_3D=True)\n",
    "\n",
    "print(fname_new)"
   ]
  },
  {
   "cell_type": "code",
   "execution_count": null,
   "metadata": {
    "collapsed": false
   },
   "outputs": [],
   "source": [
    "data.shape"
   ]
  },
  {
   "cell_type": "code",
   "execution_count": null,
   "metadata": {
    "collapsed": false
   },
   "outputs": [],
   "source": [
    "Yr,dims,T=cm.load_memmap(fname_new)\n",
    "Y=np.reshape(Yr,dims+(T,),order='F')\n",
    "Cn = cm.local_correlations(Y)\n",
    "plt.imshow(Cn.max(0) if len(Cn.shape)==3 else Cn, cmap='gray',\n",
    "           vmin=np.percentile(Cn, 1), vmax=np.percentile(Cn, 99))    \n",
    "plt.show()"
   ]
  },
  {
   "cell_type": "code",
   "execution_count": null,
   "metadata": {
    "collapsed": false
   },
   "outputs": [],
   "source": [
    "# set parameters\n",
    "K=20 # number of neurons expected per patch\n",
    "gSig=[2,2,2] # expected half size of neurons\n",
    "merge_thresh=0.8 # merging threshold, max correlation allowed\n",
    "p=2 #order of the autoregressive system"
   ]
  },
  {
   "cell_type": "code",
   "execution_count": null,
   "metadata": {
    "collapsed": false
   },
   "outputs": [],
   "source": [
    "# START CLUSTER\n",
    "cm.start_server()\n",
    "c=Client()"
   ]
  },
  {
   "cell_type": "code",
   "execution_count": null,
   "metadata": {
    "collapsed": false
   },
   "outputs": [],
   "source": [
    "# INIT\n",
    "cnm = cnmf.CNMF(n_processes, method_init='greedy_roi', k=K, gSig=gSig, merge_thresh=merge_thresh,\n",
    "                p=p, dview=None, Ain=None, method_deconvolution='oasis')"
   ]
  },
  {
   "cell_type": "code",
   "execution_count": null,
   "metadata": {
    "collapsed": false
   },
   "outputs": [],
   "source": [
    "# FIT\n",
    "images = np.reshape(Yr.T, [T] + list(dims), order='F')\n",
    "cnm = cnm.fit(images)"
   ]
  },
  {
   "cell_type": "code",
   "execution_count": null,
   "metadata": {
    "collapsed": false
   },
   "outputs": [],
   "source": [
    "A_or, C_or, srt = order_components(cnm.A,cnm.C)"
   ]
  },
  {
   "cell_type": "code",
   "execution_count": null,
   "metadata": {
    "collapsed": false,
    "scrolled": true
   },
   "outputs": [],
   "source": [
    "# view patches per layer\n",
    "traces_fluo=nb_view_patches3d(Yr, A_or, C_or, cnm.b, cnm.f, dims, image_type='max',\n",
    "                              max_projection=False,thr = 0.9)"
   ]
  },
  {
   "cell_type": "code",
   "execution_count": null,
   "metadata": {
    "collapsed": true
   },
   "outputs": [],
   "source": []
  },
  {
   "cell_type": "code",
   "execution_count": null,
   "metadata": {
    "collapsed": true
   },
   "outputs": [],
   "source": []
  },
  {
   "cell_type": "markdown",
   "metadata": {},
   "source": [
    "## Run patches "
   ]
  },
  {
   "cell_type": "code",
   "execution_count": null,
   "metadata": {
    "collapsed": false
   },
   "outputs": [],
   "source": [
    "rf = (15,15,15)  # half-size of the patches in pixels. rf=25, patches are 50x50\n",
    "stride = (10,10,10)  # amounpl.it of overlap between the patches in pixels\n",
    "K = 12  # number of neurons expected per patch\n",
    "gSig = [2,2,2]  # expected half size of neurons\n",
    "merge_thresh = 0.8  # merging threshold, max correlation allowed\n",
    "p = 1  # order of the autoregressive system\n",
    "save_results = False\n",
    "#%% RUN ALGORITHM ON PATCHES\n",
    "init_method = 'greedy_roi'\n",
    "alpha_snmf=None #10e2  # this controls sparsity\n",
    "\n",
    "cnm = cnmf.CNMF(n_processes, k=K, gSig=gSig, merge_thresh=0.8, p=0, dview=c[:], Ain=None, rf=rf, stride=stride, memory_fact=1,\n",
    "                method_init=init_method, alpha_snmf=alpha_snmf, only_init_patch=True, gnb=1,method_deconvolution='oasis')\n",
    "cnm = cnm.fit(images)\n",
    "\n",
    "A_tot = cnm.A\n",
    "C_tot = cnm.C\n",
    "YrA_tot = cnm.YrA\n",
    "b_tot = cnm.b\n",
    "f_tot = cnm.f\n",
    "sn_tot = cnm.sn\n",
    "\n",
    "print(('Number of components:' + str(A_tot.shape[-1])))"
   ]
  },
  {
   "cell_type": "code",
   "execution_count": null,
   "metadata": {
    "collapsed": false
   },
   "outputs": [],
   "source": [
    "cnm = cnmf.CNMF(n_processes, k=A_tot.shape, gSig=gSig, merge_thresh=merge_thresh, p=p, dview=c[:], Ain=A_tot, Cin=C_tot,\n",
    "                    f_in=f_tot, rf=None, stride=None, method_deconvolution='oasis')\n",
    "cnm = cnm.fit(images)"
   ]
  },
  {
   "cell_type": "code",
   "execution_count": null,
   "metadata": {
    "collapsed": false
   },
   "outputs": [],
   "source": [
    "from caiman.components_evaluation import evaluate_components\n",
    "final_frate = 10# approx final rate  (after eventual downsampling )\n",
    "Npeaks = 10\n",
    "traces = C_tot + YrA_tot\n",
    "#        traces_a=traces-scipy.ndimage.percentile_filter(traces,8,size=[1,np.shape(traces)[-1]/5])\n",
    "#        traces_b=np.diff(traces,axis=1)\n",
    "fitness_raw, fitness_delta, erfc_raw, erfc_delta, r_values, significant_samples = evaluate_components(\n",
    "Y, traces, A_tot, C_tot, b_tot, f_tot, final_frate, remove_baseline=True, N=5, robust_std=False, Athresh=0.1, Npeaks=Npeaks,  thresh_C=0.3)\n",
    "\n",
    "idx_components_r = np.where(r_values >= .5)[0]\n",
    "idx_components_raw = np.where(fitness_raw < -40)[0]\n",
    "idx_components_delta = np.where(fitness_delta < -20)[0]\n",
    "\n",
    "idx_components = np.union1d(idx_components_r, idx_components_raw)\n",
    "idx_components = np.union1d(idx_components, idx_components_delta)\n",
    "idx_components_bad = np.setdiff1d(list(range(len(traces))), idx_components)\n",
    "\n",
    "print(('Keeping ' + str(len(idx_components)) +\n",
    "   ' and discarding  ' + str(len(idx_components_bad))))"
   ]
  },
  {
   "cell_type": "code",
   "execution_count": null,
   "metadata": {
    "collapsed": false
   },
   "outputs": [],
   "source": [
    "A_or, C_or, srt = order_components(cnm.A,cnm.C)"
   ]
  },
  {
   "cell_type": "code",
   "execution_count": null,
   "metadata": {
    "collapsed": false,
    "scrolled": true
   },
   "outputs": [],
   "source": [
    "# view patches per layer\n",
    "traces_fluo=nb_view_patches3d(Yr, A_or, C_or, cnm.b, cnm.f, dims, image_type='max',\n",
    "                              max_projection=False,thr = 0.9)"
   ]
  },
  {
   "cell_type": "code",
   "execution_count": null,
   "metadata": {
    "collapsed": false
   },
   "outputs": [],
   "source": [
    "# view patches as maximum-projection\n",
    "traces_fluo=nb_view_patches3d(Yr, A_or, C_or, cnm.b, cnm.f, dims, image_type='mean',\n",
    "                              max_projection=True,axis=0,denoised_color='red')"
   ]
  },
  {
   "cell_type": "code",
   "execution_count": null,
   "metadata": {
    "collapsed": false
   },
   "outputs": [],
   "source": [
    "# STOP CLUSTER\n",
    "cm.stop_server()"
   ]
  },
  {
   "cell_type": "code",
   "execution_count": null,
   "metadata": {
    "collapsed": true
   },
   "outputs": [],
   "source": []
  }
 ],
 "metadata": {
  "anaconda-cloud": {},
  "kernelspec": {
   "display_name": "Python 2",
   "language": "python",
   "name": "python2"
  },
  "language_info": {
   "codemirror_mode": {
    "name": "ipython",
    "version": 2
   },
   "file_extension": ".py",
   "mimetype": "text/x-python",
   "name": "python",
   "nbconvert_exporter": "python",
   "pygments_lexer": "ipython2",
   "version": "2.7.13"
  }
 },
 "nbformat": 4,
 "nbformat_minor": 0
}
